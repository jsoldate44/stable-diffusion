{
  "cells": [
    {
      "cell_type": "markdown",
      "metadata": {
        "id": "view-in-github",
        "colab_type": "text"
      },
      "source": [
        "<a href=\"https://colab.research.google.com/github/jsoldate44/stable-diffusion/blob/main/Becca's_CueGenerator_Drivedown_6_13_2023.ipynb\" target=\"_parent\"><img src=\"https://colab.research.google.com/assets/colab-badge.svg\" alt=\"Open In Colab\"/></a>"
      ]
    },
    {
      "cell_type": "code",
      "execution_count": null,
      "metadata": {
        "id": "dU0t7tVQztoz"
      },
      "outputs": [],
      "source": [
        "!wget https://repo.anaconda.com/miniconda/Miniconda3-py37_4.12.0-Linux-x86_64.sh"
      ]
    },
    {
      "cell_type": "code",
      "execution_count": null,
      "metadata": {
        "collapsed": true,
        "id": "TWJZk_m83xgc"
      },
      "outputs": [],
      "source": [
        "!chmod +x Miniconda3-py37_4.12.0-Linux-x86_64.sh\n",
        "\n",
        "!bash ./Miniconda3-py37_4.12.0-Linux-x86_64.sh -b -f -p /usr/local\n",
        "\n",
        "# add imagemagick\n",
        "!apt install imagemagick"
      ]
    },
    {
      "cell_type": "code",
      "execution_count": null,
      "metadata": {
        "id": "9JapYBSCB6Bd"
      },
      "outputs": [],
      "source": [
        "!conda init bash"
      ]
    },
    {
      "cell_type": "code",
      "execution_count": null,
      "metadata": {
        "collapsed": true,
        "id": "lTRtiZZk0h5d"
      },
      "outputs": [],
      "source": [
        "# Clone the repo\n",
        "import os\n",
        "from IPython.display import Image\n",
        "from google.colab import files as FILE\n",
        "from google.colab import drive\n",
        "\n",
        "os.chdir('/content')\n",
        "drive.mount('/content/drive')\n",
        "!git clone --branch neg_prompt https://github.com/jsoldate44/stable-diffusion.git\n",
        "os.chdir('stable-diffusion')"
      ]
    },
    {
      "cell_type": "code",
      "execution_count": null,
      "metadata": {
        "collapsed": true,
        "id": "Ose9VF45qRXG"
      },
      "outputs": [],
      "source": [
        "!conda env update -n base -f environment.yaml"
      ]
    },
    {
      "cell_type": "code",
      "execution_count": null,
      "metadata": {
        "id": "iQ41XXGAhlbT"
      },
      "outputs": [],
      "source": [
        "!curl https://f004.backblazeb2.com/file/aai-blog-files/sd-v1-4.ckpt > sd-v1-4.ckpt"
      ]
    },
    {
      "cell_type": "markdown",
      "metadata": {
        "id": "R9Qz33_RBeA7"
      },
      "source": [
        "# Generating Images with Stable Diffusion"
      ]
    },
    {
      "cell_type": "markdown",
      "metadata": {
        "id": "VvnrBfI7acMM"
      },
      "source": [
        "Setup for the list of prompts and the directory of resulting images"
      ]
    },
    {
      "cell_type": "code",
      "execution_count": null,
      "metadata": {
        "id": "59nWhmoqYvle"
      },
      "outputs": [],
      "source": [
        "# either set all images here\n",
        "# generating cell\n",
        "Prompt_list = [\n",
        "    {'fold':'Cue00_','seed':5545,'prompt':'Car windshield with a bus outside'},\n",
        "    {'fold':'Cue01_','seed':5546,'prompt':'inside of car with school bus stop outside'},\n",
        "    {'fold':'Cue02_','seed':5547,'prompt':'inside of car with neighborhood outside'},\n",
        "    {'fold':'Cue03_','seed':5548,'prompt':'school bus approaching in the distance down a quiet street'}\n",
        "    ]\n",
        "\n",
        "remove_prompt = '((((ugly)))), (outside), (((duplicate))), ((morbid)), ((mutilated)), out of frame, extra fingers, mutated hands, ((poorly drawn hands)), ((poorly drawn face)), (((mutation))), (((deformed))), ((ugly)), blurry, ((bad anatomy)), (((bad proportions))), ((extra limbs)), cloned face, (((disfigured))), extra limbs, (bad anatomy), gross proportions, (malformed limbs), ((missing arms)), ((missing legs)), (((extra arms))), (((extra legs))), mutated hands, (fused fingers), (too many fingers), (((long neck)))'"
      ]
    },
    {
      "cell_type": "code",
      "execution_count": null,
      "metadata": {
        "id": "-XLOgJtqZfbV"
      },
      "outputs": [],
      "source": [
        "# Or add individual prompts here\n",
        "Prompt_list.append(\n",
        "    {'fold':'SomethingElse','seed':5323,'prompt':'Sitting on the beach'}\n",
        "    )\n",
        "\n",
        "for i in Prompt_list:\n",
        "  print(i['prompt'])"
      ]
    },
    {
      "cell_type": "code",
      "execution_count": null,
      "metadata": {
        "id": "fzgr0ET9a5TV"
      },
      "outputs": [],
      "source": [
        "# use this to clear the list of prompt when you want to start over\n",
        "# only run this as necessary\n",
        "Prompt_list = []"
      ]
    },
    {
      "cell_type": "code",
      "execution_count": null,
      "metadata": {
        "id": "Ti7aAsMTwaIS"
      },
      "outputs": [],
      "source": [
        "# Get rid of the negative prompt\n",
        "remove_prompt = ''"
      ]
    },
    {
      "cell_type": "markdown",
      "metadata": {
        "id": "hAlZqMDPasEn"
      },
      "source": [
        "Actually generating the images"
      ]
    },
    {
      "cell_type": "code",
      "execution_count": null,
      "metadata": {
        "colab": {
          "background_save": true
        },
        "id": "3zX1Srtlh7iO"
      },
      "outputs": [],
      "source": [
        "for param in Prompt_list:\n",
        "  # separate different prompts\n",
        "  fname = param['fold']\n",
        "  newseed = param['seed']\n",
        "  prompt = param['prompt']\n",
        "\n",
        "  !python \"scripts/txt2img.py\" \\\n",
        "  --plms \\\n",
        "  --ckpt sd-v1-4.ckpt \\\n",
        "  --skip_grid \\\n",
        "  --n_samples 1  \\\n",
        "  --n_iter 50 \\\n",
        "  --outdir $fname$newseed \\\n",
        "  --seed $newseed \\\n",
        "  --ddim_steps 50 \\\n",
        "  --prompt \"$prompt\" \\\n",
        "  --unprompt \"$remove_prompt\"\n",
        "\n",
        "  # name the images\n",
        "  imgs = os.listdir(f'{fname}{newseed}/samples')\n",
        "  montdir = f'{fname}{newseed}/montsamples'\n",
        "  workdir = f'{fname}{newseed}/samples'\n",
        "\n",
        "  try:\n",
        "    os.mkdir(montdir)\n",
        "  except:\n",
        "    pass\n",
        "\n",
        "  for i in imgs:\n",
        "    the_image = f'{workdir}/{i}'\n",
        "    new_image = f'{montdir}/{i}'\n",
        "    lab = i.split('.')[0]\n",
        "    !convert $the_image -gravity south -pointsize 50 -stroke '#000C' -strokewidth 4 -annotate 0 \"$lab\" -pointsize 50 -stroke none -fill white -annotate 0 \"$lab\" $new_image\n",
        "\n",
        "  !montage -tile 5x10 -geometry 200x200+5+5 $(find /content/stable-diffusion/$fname$newseed/montsamples/ -type f | sort) /content/stable-diffusion/$fname$newseed/montage.png\n",
        "  !rm -rf $montdir\n",
        "\n",
        "  !zip -r /content/stable-diffusion/{fname}{newseed}.zip /content/stable-diffusion/{fname}{newseed}\n",
        "  #FILE.download(f'/content/stable-diffusion/{fname}{newseed}.zip')\n",
        "\n",
        "  ## the directory /My Drive/VirginiaTech/RP2B/CoLab_Downloads must exist for this not to fail\n",
        "  # be certain\n",
        "  !cp /content/stable-diffusion/{fname}{newseed}.zip /content/drive/My\\ Drive/VirginiaTech/RP2B/CoLab_Downloads"
      ]
    },
    {
      "cell_type": "markdown",
      "metadata": {
        "id": "MflazaO3uT0R"
      },
      "source": [
        "If you generated multiple images (or ran the above cell multiple times with different promtps) you can view different images by changing the number `00000` in the command below. E.g. `00001.png` will display the *second* generated image."
      ]
    },
    {
      "cell_type": "markdown",
      "metadata": {
        "id": "mR5HIGHUbZ6i"
      },
      "source": [
        "Useful bits of code for checking the output"
      ]
    },
    {
      "cell_type": "code",
      "execution_count": null,
      "metadata": {
        "id": "y5HRAoN7blGY"
      },
      "outputs": [],
      "source": [
        "# Use this to move through the prompts you specify\n",
        "check_prompt = 0\n",
        "\n",
        "# Should specify which folder you are examining\n",
        "out_fold = Prompt_list[check_prompt]['fold']\n",
        "out_seed = Prompt_list[check_prompt]['seed']\n",
        "print(f'Display folder is: {out_fold}{out_seed}')\n",
        "\n",
        "for i in Prompt_list:\n",
        "  print(f\"Folder: {i['fold']}, Prompt: {i['prompt']}\")"
      ]
    },
    {
      "cell_type": "code",
      "execution_count": null,
      "metadata": {
        "colab": {
          "background_save": true
        },
        "id": "ynakaf0ycD-E"
      },
      "outputs": [],
      "source": [
        "     # display the full montage\n",
        "Image(f'/content/stable-diffusion/{out_fold}{out_seed}/montage.png')"
      ]
    },
    {
      "cell_type": "code",
      "execution_count": null,
      "metadata": {
        "id": "vrD4jmM7XesE"
      },
      "outputs": [],
      "source": [
        "# Use this to move through individual images, starting at 00000, you only need to give a number\n",
        "img_number = 27\n",
        "\n",
        "# print the image based on check_prompt and img_number\n",
        "Image(f'/content/stable-diffusion/{out_fold}{out_seed}/samples/{img_number:05}.png')"
      ]
    },
    {
      "cell_type": "markdown",
      "metadata": {
        "id": "wpqLIzpRiuL7"
      },
      "source": [
        "# Downloading Images"
      ]
    },
    {
      "cell_type": "markdown",
      "metadata": {
        "id": "VWHO1K1XdGR0"
      },
      "source": [
        "Downloading the images you just viewed\n",
        "\n",
        "Relies on cells [Promp](https://colab.research.google.com/drive/15x3RufhDhjYbcg7SPIKDI9z908kB91R3#scrollTo=y5HRAoN7blGY&line=4&uniqifier=1)\n",
        "and [Image](https://colab.research.google.com/drive/15x3RufhDhjYbcg7SPIKDI9z908kB91R3#scrollTo=vrD4jmM7XesE&line=1&uniqifier=1)\n",
        "\n",
        "rerun them to change the download location\n",
        "\n"
      ]
    },
    {
      "cell_type": "code",
      "execution_count": null,
      "metadata": {
        "id": "XFv9vMjMwLJi"
      },
      "outputs": [],
      "source": [
        "# download the image you just viewed\n",
        "from google.colab import files as FILE\n",
        "FILE.download(f\"/content/stable-diffusion/{out_fold}{out_seed}/samples/{img_number:05}.png\")"
      ]
    },
    {
      "cell_type": "markdown",
      "metadata": {
        "id": "ecp4jbYneIC3"
      },
      "source": [
        "Download a zip of the whole thing"
      ]
    },
    {
      "cell_type": "code",
      "execution_count": null,
      "metadata": {
        "id": "CHMxgcfB2mRI"
      },
      "outputs": [],
      "source": [
        "!zip -r /content/stable-diffusion/{out_fold}{out_seed}.zip /content/stable-diffusion/{out_fold}{out_seed}\n",
        "FILE.download(f'/content/stable-diffusion/{out_fold}{out_seed}.zip')"
      ]
    },
    {
      "cell_type": "markdown",
      "metadata": {
        "id": "RXPl4mAauM49"
      },
      "source": [
        "You can delete the contents of the `samples` folder and `samples.zip` to keep the directory clean if you want to run multiple samplings with different prompts.\n",
        "\n",
        "The below commands are commented out by default to avoid accidental deletion - uncomment them and run the cell in order to delete all of the generated images / ZIP file."
      ]
    },
    {
      "cell_type": "code",
      "execution_count": null,
      "metadata": {
        "id": "5s9f3XHfuME5"
      },
      "outputs": [],
      "source": [
        "for prompts in Prompt_list:\n",
        "  !rm -rf /content/stable-diffusion/prompts[out_fold]prompts[out_seed]\n",
        "  !rm /content/stable-diffusion/*.zip"
      ]
    },
    {
      "cell_type": "markdown",
      "metadata": {
        "id": "5TsEC8w2wn8Y"
      },
      "source": [
        "To run another prompt, simply start at the **Generating Images with Stable Diffusion** section and follow along as before!"
      ]
    },
    {
      "cell_type": "markdown",
      "metadata": {
        "id": "gi5Px8mE22QE"
      },
      "source": [
        "# Final Words\n",
        "\n",
        "That's all it takes to generate images using the new Stable Diffusion model - don't forget to share your fun creations with us on [Twitter](https://twitter.com/AssemblyAI)! If you want to learn more about how Stable Diffusion works, you can check out our [Introduction to Diffusion Models for Machine Learning](https://www.assemblyai.com/blog/diffusion-models-for-machine-learning-introduction/) article. If you enjoyed this article, feel free to check out more of our [blog](https://www.assemblyai.com/blog/) or [YouTube channel](https://www.youtube.com/c/AssemblyAI) for Machine Learning content, or feel free to [follow our newsletter](https://assemblyai.us17.list-manage.com/subscribe?u=cb9db7b18b274c2d402a56c5f&id=2116bf7c68) to stay in the loop for new releases."
      ]
    },
    {
      "cell_type": "code",
      "execution_count": null,
      "metadata": {
        "id": "d7ueBMb8yFAg"
      },
      "outputs": [],
      "source": [
        "print(remove_prompt)"
      ]
    }
  ],
  "metadata": {
    "accelerator": "GPU",
    "colab": {
      "machine_shape": "hm",
      "provenance": [],
      "gpuClass": "premium",
      "include_colab_link": true
    },
    "gpuClass": "premium",
    "kernelspec": {
      "display_name": "Python 3",
      "name": "python3"
    },
    "language_info": {
      "name": "python"
    }
  },
  "nbformat": 4,
  "nbformat_minor": 0
}